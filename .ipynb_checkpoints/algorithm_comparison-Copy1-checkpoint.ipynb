{
 "cells": [
  {
   "cell_type": "markdown",
   "metadata": {
    "pycharm": {
     "name": "#%% md\n"
    }
   },
   "source": [
    "# Comparing ID3 and CS4.5 Learning Algorithms implemented in Python\n",
    "\n",
    "## Introduction\n",
    "\n",
    "### Motivation\n",
    "\n",
    "In order to deeply understand the concepts involved as well as Compare these Algorithms, \n",
    "I will implement them each as a Class in base Python, train them on a sample Dataset and compare their learning rates,\n",
    "both graphically and with some key metrics (training time, accuracy, further metrics to be determined later).\n",
    "\n",
    "### Scope \n",
    "I will not define basic Concepts such Machine Learning and Decision Trees here.\n",
    "Finally, I consider the history of these Algorithms out of scope here.\n",
    "\n",
    "Even though this is not a purely or even predominantly mathematical Project I _will_ introduce the Algorithms briefly,\n",
    "both in order to improve my own understanding and to provide context.\n",
    "\n",
    "### Key Concepts\n",
    "\n",
    "#### Entropy\n",
    "Having been very well defined elsewhere, I think about __Entropy__ in this specific context \n",
    "as the degree to which the varying outcomes of a probabilistic process are unbalanced.\n",
    "\n",
    "Simply put, a system has maximum entropy when all the outcomes are equally likely \n",
    "(think randomly picking a number from 1-100 where each numbers' probability of being chosen is 1%)\n",
    "and approaches zero entropy as an outcome becomes increasingly certain. \n",
    "\n",
    "> Formally: Given a random variable $X$, with possible outcomes $x_{i}$, each with probability $P_{X}(x_{i})$ \n",
    "> the entropy $H(X)$ is as follows\n",
    "> $$ H(x) = P_x(x_i) *  log_b P_x(x_i) $$\n",
    "> \n",
    ">source: [wikipedia](https://en.wikipedia.org/wiki/Entropy_(information_theory))\n",
    "> \n",
    ">the base $b$ is usually set at 2 for this specific case, representing a \"choice\" between 2 outcomes \n",
    "\n",
    "By this Token, the Entropy of picking a random Number between 1-100 can be calculated as\n"
   ]
  },
  {
   "cell_type": "code",
   "execution_count": 1,
   "metadata": {
    "pycharm": {
     "is_executing": false,
     "name": "#%%\n"
    }
   },
   "outputs": [
    {
     "data": {
      "text/plain": [
       "6.6438561897747395"
      ]
     },
     "execution_count": 1,
     "metadata": {},
     "output_type": "execute_result"
    }
   ],
   "source": [
    "from math import log\n",
    "\n",
    "\n",
    "probabilities = [.01] * 100\n",
    "entropy_example = -sum([i * log(.01, 2) for i in probabilities])\n",
    "entropy_example"
   ]
  },
  {
   "cell_type": "markdown",
   "metadata": {
    "pycharm": {
     "name": "#%% md\n"
    }
   },
   "source": [
    "graphically, let's look how entropy behaves in the most simple case from maximum to minimum:\n",
    "\n",
    "We start out with an equal coin toss with likelihood of 50 | 50 (maximum entropy) \n",
    "and end up with a perfectly unfair coin toss: 0 | 1"
   ]
  },
  {
   "cell_type": "code",
   "execution_count": 2,
   "metadata": {
    "pycharm": {
     "is_executing": false,
     "name": "#%%\n"
    }
   },
   "outputs": [
    {
     "data": {
      "image/png": "[encoded data removed]",
      "text/plain": [
       "<Figure size 1152x576 with 1 Axes>"
      ]
     },
     "metadata": {
      "needs_background": "light"
     },
     "output_type": "display_data"
    }
   ],
   "source": [
    "import matplotlib.pyplot as plt\n",
    "from scipy.stats import entropy\n",
    "\n",
    "\n",
    "heads = .5\n",
    "tails = 1 - heads\n",
    "\n",
    "# we shift the likelihoods over from 0.5 - 0 and calculate entropy at each point\n",
    "# this time we use the entropy function from scipy\n",
    "# this could be vectorized with numpy, but at a list of this size...\n",
    "entropies = [entropy([(heads - i), tails], base=2) for i in [j * 0.005 for j in range(101)]]\n",
    "\n",
    "plt.figure(figsize=(16,8))\n",
    "plt.stem(range(101),entropies, use_line_collection=True)\n",
    "plt.legend('likelihood of a coin toss - from equal to unfair, in steps of 1%')\n",
    "plt.show()"
   ]
  },
  {
   "cell_type": "markdown",
   "metadata": {
    "pycharm": {
     "name": "#%% md\n"
    }
   },
   "source": [
    "as we can see, this looks like a classic logarithmic curve"
   ]
  },
  {
   "cell_type": "markdown",
   "metadata": {
    "pycharm": {
     "name": "#%% md\n"
    }
   },
   "source": [
    "#### Information Gain\n",
    "Complementary to Entropy of a probabilistic process, Information Gain indicates the decrease of entropy that occurs \n",
    "due to knowledge of a specific feature of the process, or makes the outcome of the process more deterministic.\n",
    "\n",
    "> Formally _the expected information gain is the change in information entropy Η \n",
    "> from a prior state to a state that takes some information as given:_\n",
    ">\n",
    "> $$ IG(T, a) = H(T) - H(T|a) $$\n",
    ">\n",
    "> where $H(T)$ describes the entropy of a system and $H(T|a)$ describes the entropy given and attribute $a$ \n",
    ">\n",
    "> source : [wikipedia](https://en.wikipedia.org/wiki/Information_gain_in_decision_trees)\n",
    "\n",
    "Informally, my heuristic for information gain is how much a new observation causes models and assumptions to be revised,\n",
    "the more surprising a new value, the more a model needs to be revised \n",
    "and therefore the more information is gained.\n",
    "\n",
    "More importantly concerning decision trees, information gain can be constructed in terms of \n",
    "the effect on entropy of splitting groups along a feature and look at the (posterior, conditional) entropy in the resulting groups \n",
    "compared to the prior entropy.\n",
    "If you're familiar with Bayes' Theorem, this should bring up some memories (fond or otherwise).\n",
    "\n",
    "> Formally that means we define the conditional entropy of a training set $ T $ given a feature $ a $ - $ H(T|a) $\n",
    "> as:\n",
    ">\n",
    "> $$ \\sum_{v \\in vals(a)} \\frac{|S_a(v)|}{|T|} \\cdot H(S_a(v))  $$\n",
    ">\n",
    "> here $S_a(v)$ denotes the subset of the training set $T$ for which the feature $a$ is applicable\n",
    "\n",
    "Ultimately, we calculate the entropy in all resulting subsets, multiply them by the relative sizes of the subsets \n",
    "and sum them up. \n",
    "So if we split Training group exactly in half on a feature, we calculate the entropy of subgroup a * .5 \n",
    "and the entropy of subgroup b * .5 and the sum would be our resulting entropy.\n",
    "\n",
    "To show a more tangible example:\n",
    "\n",
    "Assuming we have a group of 100 people and know only their height and their gender.\n",
    "Now we want to find the best \"cutoff\" height to split the group into male/female. We do this by:\n",
    "* picking a cutoff height, let's say 170cm and splitting the group into two subgroups\n",
    "* calculate conditional entropy in the group above / below given a height of more or less than 170 cm, respectively\n",
    "* multiply the conditional entropies by the group sizes (e.g. 35/100 and 65/100) and sum them up\n",
    "* calculate the difference between the original entropy of the whole set and the sums (the information gain)\n",
    "* record the information gain and shift the cutoff to the next possible value\n",
    "\n",
    "In Python:"
   ]
  },
  {
   "cell_type": "code",
   "execution_count": 3,
   "metadata": {
    "pycharm": {
     "is_executing": false,
     "name": "#%%\n"
    }
   },
   "outputs": [
    {
     "data": {
      "text/html": [
       "<div>\n",
       "<style scoped>\n",
       "    .dataframe tbody tr th:only-of-type {\n",
       "        vertical-align: middle;\n",
       "    }\n",
       "\n",
       "    .dataframe tbody tr th {\n",
       "        vertical-align: top;\n",
       "    }\n",
       "\n",
       "    .dataframe thead th {\n",
       "        text-align: right;\n",
       "    }\n",
       "</style>\n",
       "<table border=\"1\" class=\"dataframe\">\n",
       "  <thead>\n",
       "    <tr style=\"text-align: right;\">\n",
       "      <th></th>\n",
       "      <th>height_centimeters</th>\n",
       "      <th>gender_male</th>\n",
       "    </tr>\n",
       "  </thead>\n",
       "  <tbody>\n",
       "    <tr>\n",
       "      <th>0</th>\n",
       "      <td>181.0</td>\n",
       "      <td>1.0</td>\n",
       "    </tr>\n",
       "    <tr>\n",
       "      <th>1</th>\n",
       "      <td>193.0</td>\n",
       "      <td>1.0</td>\n",
       "    </tr>\n",
       "    <tr>\n",
       "      <th>2</th>\n",
       "      <td>190.0</td>\n",
       "      <td>1.0</td>\n",
       "    </tr>\n",
       "    <tr>\n",
       "      <th>3</th>\n",
       "      <td>173.0</td>\n",
       "      <td>1.0</td>\n",
       "    </tr>\n",
       "    <tr>\n",
       "      <th>4</th>\n",
       "      <td>185.0</td>\n",
       "      <td>1.0</td>\n",
       "    </tr>\n",
       "  </tbody>\n",
       "</table>\n",
       "</div>"
      ],
      "text/plain": [
       "   height_centimeters  gender_male\n",
       "0               181.0          1.0\n",
       "1               193.0          1.0\n",
       "2               190.0          1.0\n",
       "3               173.0          1.0\n",
       "4               185.0          1.0"
      ]
     },
     "execution_count": 3,
     "metadata": {},
     "output_type": "execute_result"
    }
   ],
   "source": [
    "import random\n",
    "import numpy as np\n",
    "import pandas as pd\n",
    "\n",
    "# create normal distributions for M/F along height - wiki\n",
    "# label 1/0 \n",
    "# loop over all possible cutoffs\n",
    "# bar chart\n",
    "\n",
    "# we initialize a random seed, in order to get a consistent random ratio of men/women in our fictional group\n",
    "random.seed(42)\n",
    "males_ratio = round(random.random() * 100)\n",
    "\n",
    "# we use accurate means/standard deviations for the heights of each group\n",
    "# source: https://www.usablestats.com/lessons/normal (converted heights to CM)\n",
    "mean_male = 177.8\n",
    "stdev_male = 10.16\n",
    "mean_female = 165.1\n",
    "stdev_female = 8.89\n",
    "\n",
    "# we create normal distributions in numpy stack the arrays together and create a labeled dataframe\n",
    "distribution_male = np.random.normal(mean_male, stdev_male, size=males_ratio)\n",
    "distribution_female = np.random.normal(mean_female, stdev_female, size=(100-males_ratio))\n",
    "distribution_male = np.floor(distribution_male)\n",
    "distribution_female = np.floor(distribution_female)\n",
    "\n",
    "m_array = np.dstack((distribution_male, np.ones_like(distribution_male)))\n",
    "f_array = np.dstack((distribution_female, np.zeros_like(distribution_female)))\n",
    "all_array = np.hstack((m_array, f_array))\n",
    "\n",
    "all_array[0]\n",
    "df = pd.DataFrame(all_array[0], columns=['height_centimeters', 'gender_male'])\n",
    "df.head()"
   ]
  },
  {
   "cell_type": "markdown",
   "metadata": {},
   "source": [
    "so all we have done here, is create a (fictional, random) table of persons, each with a height in centimeters and a label. Note how we use use 1/0 labels for the genders, a technique that is very common in machine learning, making a number of mathematical operations much easier.\n",
    "\n",
    "Next we step over all the heights in our fictional group and take each of them as cutoff to split the grop into two parts. Then, for each of these splits, we record how much information we have gained:"
   ]
  },
  {
   "cell_type": "code",
   "execution_count": 4,
   "metadata": {},
   "outputs": [
    {
     "data": {
      "image/png": "[encoded data removed]",
      "text/plain": [
       "<Figure size 1152x576 with 1 Axes>"
      ]
     },
     "metadata": {
      "needs_background": "light"
     },
     "output_type": "display_data"
    }
   ],
   "source": [
    "from information_gain import information_gain\n",
    "\n",
    "\n",
    "cutoffs = np.arange(df['height_centimeters'].min(), df['height_centimeters'].max())\n",
    "information_gains = [information_gain(before_split=df['gender_male'].values, \n",
    "                                      split_part_1=df[df['height_centimeters'] > i]['gender_male'].values, \n",
    "                                      split_part_2=df[df['height_centimeters'] <= i]['gender_male'].values) for i in cutoffs]\n",
    "\n",
    "plt.figure(figsize=(16,8))\n",
    "plt.stem(cutoffs, information_gains, use_line_collection=True)\n",
    "plt.legend('information gain (bits) for a given cutoff - from minimum to maximum height in the groups')\n",
    "plt.show()"
   ]
  },
  {
   "cell_type": "markdown",
   "metadata": {
    "pycharm": {
     "name": "#%% md\n"
    }
   },
   "source": [
    "As we see there is a definitive \"sweet spot\" here - since these are distributions that *do* overlap but differ after all. So this tells us, that for this fictional group of people, for the attribute of height, we gain the most information when we split the group along 169 centimeters.\n",
    "\n",
    "This is in essence what a single decision tree classifier with a single attribute would do during training. According to this model, having no further information available, we get the best result if we classified everyone who is taller than 169cm (5'6.5\") as male, and everyone who is up to 169cm tall as female.\n",
    "\n",
    "So let's take a brief look at our accuracy:"
   ]
  },
  {
   "cell_type": "code",
   "execution_count": 5,
   "metadata": {},
   "outputs": [
    {
     "data": {
      "text/plain": [
       "0.7887323943661971"
      ]
     },
     "execution_count": 5,
     "metadata": {},
     "output_type": "execute_result"
    }
   ],
   "source": [
    "# check how often we would be right in claiming everyone > 169 is male\n",
    "np.mean(df[df['height_centimeters'] > 169]['gender_male'] == 1)"
   ]
  },
  {
   "cell_type": "markdown",
   "metadata": {
    "pycharm": {
     "name": "#%% md\n"
    }
   },
   "source": [
    "so as we see, an accuracy just shy of 90% is not bad. Granded, this is a simplified example, with a nice regular normal distribution and we do not have a rare class problem, outliers, heteroskedacity or a large number of attributes, but nonetheless it should be obvious why this approach is fairly powerful. "
   ]
  },
  {
   "cell_type": "markdown",
   "metadata": {
    "pycharm": {
     "name": "#%% md\n"
    }
   },
   "source": [
    "## The Iterative Dichotomiser 3 (ID3) Algorithm\n",
    "\n",
    "Now that we have defined all these concepts, the ID3 classification algorithm applies the concepts above to categorical attributes in order togenerate a decision tree, in the following steps:\n",
    "\n",
    "1. In the initial data, for every attribute, check all possible values and find the one that maximises information gain\n",
    "2. Split the original data at this value into subsets \n",
    "3. perform step 1-2 until all subsets are \"pure\"\n",
    "\n",
    "There are numerous good visual explanations of this, here is one:\n",
    "![decision tree fit](https://scr.sad.supinfo.com/articles/resources/225113/9820/0.png)\n",
    "\n",
    "This illustrates why this approach is intuitive and easy to grasp even for non-technical users.\n",
    "\n",
    "Points to note about the ID3 algorithm:\n",
    "* note that in every iteration of step 1 above we have a nested loop\n",
    "    * we loop over all attributes of the data\n",
    "    * for every attribute we loop over every possible value\n",
    "* ID3 is what's known as a 'greedy' algorithm and thereby can \"overlook\" solutions and/or converge on local maxima (and overlook global maxima). A good intuitive example of this is the [fractional knapsack problem](https://www.geeksforgeeks.org/greedy-algorithms/)\n",
    "\n",
    "So while powerful and intuitive, ID3 clearly has shortcomings, most prominently its' large computational overhead and tendency to converge on local maxima (which results in overfitting, in many cases)."
   ]
  },
  {
   "cell_type": "code",
   "execution_count": 6,
   "metadata": {
    "collapsed": false,
    "jupyter": {
     "outputs_hidden": false
    },
    "pycharm": {
     "name": "#%%\n"
    }
   },
   "outputs": [
    {
     "ename": "NameError",
     "evalue": "name 'S' is not defined",
     "output_type": "error",
     "traceback": [
      "\u001b[0;31m--------------------------------------------------\u001b[0m",
      "\u001b[0;31mNameError\u001b[0m        Traceback (most recent call last)",
      "\u001b[0;32m<ipython-input-6-df23348f6d3c>\u001b[0m in \u001b[0;36m<module>\u001b[0;34m\u001b[0m\n\u001b[0;32m----> 1\u001b[0;31m \u001b[0mS\u001b[0m\u001b[0;34m\u001b[0m\u001b[0;34m\u001b[0m\u001b[0m\n\u001b[0m",
      "\u001b[0;31mNameError\u001b[0m: name 'S' is not defined"
     ]
    }
   ],
   "source": [
    "S"
   ]
  },
  {
   "cell_type": "code",
   "execution_count": null,
   "metadata": {},
   "outputs": [],
   "source": [
    "S"
   ]
  }
 ],
 "metadata": {
  "kernelspec": {
   "display_name": "Python 3",
   "language": "python",
   "name": "python3"
  },
  "language_info": {
   "codemirror_mode": {
    "name": "ipython",
    "version": 3
   },
   "file_extension": ".py",
   "mimetype": "text/x-python",
   "name": "python",
   "nbconvert_exporter": "python",
   "pygments_lexer": "ipython3",
   "version": "3.8.3"
  }
 },
 "nbformat": 4,
 "nbformat_minor": 4
}
