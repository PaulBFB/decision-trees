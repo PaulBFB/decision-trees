{
 "cells": [
  {
   "cell_type": "markdown",
   "metadata": {
    "collapsed": true,
    "pycharm": {
     "name": "#%% md\n"
    }
   },
   "source": [
    "# Comparing ID3 and CS4.5 Learning Algorithms implemented in Python\n",
    "\n",
    "## Introduction\n",
    "\n",
    "### Motivation\n",
    "\n",
    "In order to deeply understand the concepts involved as well as Compare these Algorithms, \n",
    "I will implement them each as a Class in base Python, train them on a sample Dataset and compare their learning rates,\n",
    "both graphically and with some key metrics (training time, accuracy, further metrics to be determined later).\n",
    "\n",
    "### Scope \n",
    "I will not define basic Concepts such Machine Learning and Decision Trees here.\n",
    "Finally, I consider the history of these Algorithms out of scope here.\n",
    "\n",
    "Even though this is not a purely or even predominantly mathematical Project I _will_ introduce the Algorithms briefly,\n",
    "both in order to improve my own understanding and to provide context.\n",
    "\n",
    "### Key Concepts\n",
    "\n",
    "#### Entropy\n",
    "Having been very well defined elsewhere, I think about __Entropy__ in this specific context \n",
    "as the degree to which the varying outcomes of a probabilistic process are unbalanced.\n",
    "\n",
    "Simply put, a system has maximum entropy when all the outcomes are equally likely \n",
    "(think randomly picking a number from 1-100 where each numbers' probability of being chosen is 1%)\n",
    "and approaches zero entropy as an outcome becomes increasingly certain. \n",
    "\n",
    "> Formally: Given a random variable $X$, with possible outcomes $x_{i}$, each with probability $P_{X}(x_{i})$ \n",
    "> the entropy $H(X)$ is as follows\n",
    "> $$ H(x) = P_x(x_i) *  log_b P_x(x_i) $$\n",
    "> \n",
    ">source: [wikikpedia](https://en.wikipedia.org/wiki/Entropy_(information_theory))\n",
    "> \n",
    ">the base $b$ is usually set at 2 for this specific case, representing a \"choice\" between 2 outcomes \n",
    "\n",
    "By this Token, the Entropy of picking a random Number between 1-100 can be calculated as\n"
   ]
  },
  {
   "cell_type": "code",
   "execution_count": 2,
   "metadata": {
    "pycharm": {
     "is_executing": false,
     "name": "#%%\n"
    }
   },
   "outputs": [
    {
     "data": {
      "text/plain": [
       "6.6438561897747395"
      ]
     },
     "execution_count": 2,
     "metadata": {},
     "output_type": "execute_result"
    }
   ],
   "source": [
    "from math import log\n",
    "\n",
    "\n",
    "probabilities = [.01] * 100\n",
    "entropy_example = -sum([i * log(.01, 2) for i in probs])\n",
    "entropy_example"
   ]
  },
  {
   "cell_type": "markdown",
   "metadata": {
    "pycharm": {
     "name": "#%% md\n"
    }
   },
   "source": [
    "graphically, let's look how entropy behaves in the most simple case from maximum to minimum:\n",
    "\n",
    "We start out with an equal coin toss with likelihood of 50 | 50 (maximum entropy) \n",
    "and end up with a perfectly unfair coin toss: 0 | 1"
   ]
  },
  {
   "cell_type": "code",
   "execution_count": 3,
   "metadata": {
    "pycharm": {
     "is_executing": false,
     "name": "#%%\n"
    }
   },
   "outputs": [
    {
     "data": {
      "text/plain": "<Figure size 1152x576 with 1 Axes>",
      "image/png": "[encoded data removed]"
     },
     "metadata": {
      "needs_background": "light"
     },
     "output_type": "display_data"
    }
   ],
   "source": [
    "import matplotlib.pyplot as plt\n",
    "from scipy.stats import entropy\n",
    "\n",
    "\n",
    "heads = .5\n",
    "tails = 1 - heads\n",
    "\n",
    "# we shift the likelihoods over from 0.5 - 0 and calculate entropy at each point\n",
    "# this time we use the entropy function from scipy\n",
    "# this could be vectorized with numpy, but at a list of this size...\n",
    "entropies = [entropy([(heads - i), tails], base=2) for i in [j * 0.01 for j in range(51)]]\n",
    "\n",
    "plt.figure(figsize=(16,8))\n",
    "plt.stem(range(51),entropies, use_line_collection=True)\n",
    "plt.legend('likelihood of a coin toss - from equal to unfair, in steps of 1%')\n",
    "plt.show()"
   ]
  },
  {
   "cell_type": "markdown",
   "metadata": {
    "pycharm": {
     "name": "#%% md\n"
    }
   },
   "source": [
    "as we can see, this looks like a classic logarithmic curve"
   ]
  },
  {
   "cell_type": "markdown",
   "metadata": {
    "pycharm": {
     "name": "#%% md\n"
    }
   },
   "source": [
    "#### Information Gain\n",
    "The opposing side of Entropy, Information Gain is concerned with how much knowledge of a feature \n",
    "decreases the Entropy of a system, or makes the outcome more deterministic.\n",
    "\n",
    "## The Iterative Dichotomiser 3 (ID3) Algorithm\n",
    "\n"
   ]
  }
 ],
 "metadata": {
  "kernelspec": {
   "display_name": "Python 3",
   "language": "python",
   "name": "python3"
  },
  "language_info": {
   "codemirror_mode": {
    "name": "ipython",
    "version": 3
   },
   "file_extension": ".py",
   "mimetype": "text/x-python",
   "name": "python",
   "nbconvert_exporter": "python",
   "pygments_lexer": "ipython3",
   "version": "3.8.2"
  },
  "pycharm": {
   "stem_cell": {
    "cell_type": "raw",
    "source": [],
    "metadata": {
     "collapsed": false
    }
   }
  }
 },
 "nbformat": 4,
 "nbformat_minor": 1
}