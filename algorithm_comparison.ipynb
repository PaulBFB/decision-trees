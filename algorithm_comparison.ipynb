{
 "cells": [
  {
   "cell_type": "markdown",
   "metadata": {
    "pycharm": {
     "name": "#%% md\n"
    }
   },
   "source": [
    "# Comparing ID3 and CS4.5 Learning Algorithms implemented in Python\n",
    "\n",
    "## Introduction\n",
    "\n",
    "### Motivation\n",
    "\n",
    "In order to deeply understand the concepts involved as well as Compare these Algorithms, \n",
    "I will implement them each as a Class in base Python, train them on a sample Dataset and compare their learning rates,\n",
    "both graphically and with some key metrics (training time, accuracy, further metrics to be determined later).\n",
    "\n",
    "### Scope \n",
    "I will not define basic Concepts such Machine Learning and Decision Trees here.\n",
    "Finally, I consider the history of these Algorithms out of scope here.\n",
    "\n",
    "Even though this is not a purely or even predominantly mathematical Project I _will_ introduce the Algorithms briefly,\n",
    "both in order to improve my own understanding and to provide context.\n",
    "\n",
    "### Key Concepts\n",
    "\n",
    "#### Entropy\n",
    "Having been very well defined elsewhere, I think about __Entropy__ in this specific context \n",
    "as the degree to which the varying outcomes of a probabilistic process are unbalanced.\n",
    "\n",
    "Simply put, a system has maximum entropy when all the outcomes are equally likely \n",
    "(think randomly picking a number from 1-100 where each numbers' probability of being chosen is 1%)\n",
    "and approaches zero entropy as an outcome becomes increasingly certain. \n",
    "\n",
    "> Formally: Given a random variable $X$, with possible outcomes $x_{i}$, each with probability $P_{X}(x_{i})$ \n",
    "> the entropy $H(X)$ is as follows\n",
    "> $$ H(x) = P_x(x_i) *  log_b P_x(x_i) $$\n",
    "> \n",
    ">source: [wikipedia](https://en.wikipedia.org/wiki/Entropy_(information_theory))\n",
    "> \n",
    ">the base $b$ is usually set at 2 for this specific case, representing a \"choice\" between 2 outcomes \n",
    "\n",
    "By this Token, the Entropy of picking a random Number between 1-100 can be calculated as\n"
   ]
  },
  {
   "cell_type": "code",
   "execution_count": 1,
   "metadata": {
    "pycharm": {
     "is_executing": false,
     "name": "#%%\n"
    }
   },
   "outputs": [
    {
     "data": {
      "text/plain": [
       "6.6438561897747395"
      ]
     },
     "execution_count": 1,
     "metadata": {},
     "output_type": "execute_result"
    }
   ],
   "source": [
    "from math import log\n",
    "\n",
    "\n",
    "probabilities = [.01] * 100\n",
    "entropy_example = -sum([i * log(.01, 2) for i in probabilities])\n",
    "entropy_example"
   ]
  },
  {
   "cell_type": "markdown",
   "metadata": {
    "pycharm": {
     "name": "#%% md\n"
    }
   },
   "source": [
    "graphically, let's look how entropy behaves in the most simple case from maximum to minimum:\n",
    "\n",
    "We start out with an equal coin toss with likelihood of 50 | 50 (maximum entropy) \n",
    "and end up with a perfectly unfair coin toss: 0 | 1"
   ]
  },
  {
   "cell_type": "code",
   "execution_count": 2,
   "metadata": {
    "pycharm": {
     "is_executing": false,
     "name": "#%%\n"
    }
   },
   "outputs": [
    {
     "data": {
      "image/png": "[encoded data removed]",
      "text/plain": [
       "<Figure size 1152x576 with 1 Axes>"
      ]
     },
     "metadata": {
      "needs_background": "light"
     },
     "output_type": "display_data"
    }
   ],
   "source": [
    "import matplotlib.pyplot as plt\n",
    "from scipy.stats import entropy\n",
    "\n",
    "\n",
    "heads = .5\n",
    "tails = 1 - heads\n",
    "\n",
    "# we shift the likelihoods over from 0.5 - 0 and calculate entropy at each point\n",
    "# this time we use the entropy function from scipy\n",
    "# this could be vectorized with numpy, but at a list of this size...\n",
    "entropies = [entropy([(heads - i), tails], base=2) for i in [j * 0.005 for j in range(101)]]\n",
    "\n",
    "plt.figure(figsize=(16,8))\n",
    "plt.stem(range(101),entropies, use_line_collection=True)\n",
    "plt.legend('likelihood of a coin toss - from equal to unfair, in steps of 1%')\n",
    "plt.show()"
   ]
  },
  {
   "cell_type": "markdown",
   "metadata": {
    "pycharm": {
     "name": "#%% md\n"
    }
   },
   "source": [
    "as we can see, this looks like a classic logarithmic curve"
   ]
  },
  {
   "cell_type": "markdown",
   "metadata": {
    "pycharm": {
     "name": "#%% md\n"
    }
   },
   "source": [
    "#### Information Gain\n",
    "Complementary to Entropy of a probabilistic process, Information Gain indicates the decrease of entropy that occurs \n",
    "due to knowledge of a specific feature of the process, or makes the outcome of the process more deterministic.\n",
    "\n",
    "> Formally _the expected information gain is the change in information entropy Η \n",
    "> from a prior state to a state that takes some information as given:_\n",
    ">\n",
    "> $$ IG(T, a) = H(T) - H(T|a) $$\n",
    ">\n",
    "> where $H(T)$ describes the entropy of a system and $H(T|a)$ describes the entropy given and attribute $a$ \n",
    ">\n",
    "> source : [wikipedia](https://en.wikipedia.org/wiki/Information_gain_in_decision_trees)\n",
    "\n",
    "Informally, my heuristic for information gain is how much a new observation causes models and assumptions to be revised,\n",
    "the more surprising a new value, the more a model needs to be revised \n",
    "and therefore the more information is gained.\n",
    "\n",
    "More importantly concerning decision trees, information gain can be constructed in terms of \n",
    "the effect on entropy of splitting groups along a feature and look at the (posterior, conditional) entropy in the resulting groups \n",
    "compared to the prior entropy.\n",
    "If you're familiar with Bayes' Theorem, this should bring up some memories (fond or otherwise).\n",
    "\n",
    "> Formally that means we define the conditional entropy of a training set $ T $ given a feature $ a $ - $ H(T|a) $\n",
    "> as:\n",
    ">\n",
    "> $$ \\sum_{v \\in vals(a)} \\frac{|S_a(v)|}{|T|} \\cdot H(S_a(v))  $$\n",
    ">\n",
    "> here $S_a(v)$ denotes the subset of the training set $T$ for which the feature $a$ is applicable\n",
    "\n",
    "Ultimately, we calculate the entropy in all resulting subsets, multiply them by the relative sizes of the subsets \n",
    "and sum them up. \n",
    "So if we split Training group exactly in half on a feature, we calculate the entropy of subgroup a * .5 \n",
    "and the entropy of subgroup b * .5 and the sum would be our resulting entropy.\n",
    "\n",
    "To show a more tangible example:\n",
    "\n",
    "Assuming we have a group of 100 people and know only their height and their gender.\n",
    "Now we want to find the best \"cutoff\" height to split the group into male/female. We to this by:\n",
    "* picking a cutoff height, let's say 170cm and splitting the group in two\n",
    "* calculate conditional entropy in the group above / below given a height of more or less than 170 cm, respectively\n",
    "* multiply the conditional entropies by the group sizes (e.g. 35/100 and 65/100) and sum them up\n",
    "* calculate the difference between the original entropy of the whole set and the sums (the information gain)\n",
    "* record the information gain and shift the cutoff to the next possible value\n",
    "\n",
    "In Python:"
   ]
  },
  {
   "cell_type": "code",
   "execution_count": 3,
   "metadata": {
    "pycharm": {
     "is_executing": false,
     "name": "#%%\n"
    }
   },
   "outputs": [
    {
     "data": {
      "text/html": [
       "<div>\n",
       "<style scoped>\n",
       "    .dataframe tbody tr th:only-of-type {\n",
       "        vertical-align: middle;\n",
       "    }\n",
       "\n",
       "    .dataframe tbody tr th {\n",
       "        vertical-align: top;\n",
       "    }\n",
       "\n",
       "    .dataframe thead th {\n",
       "        text-align: right;\n",
       "    }\n",
       "</style>\n",
       "<table border=\"1\" class=\"dataframe\">\n",
       "  <thead>\n",
       "    <tr style=\"text-align: right;\">\n",
       "      <th></th>\n",
       "      <th>height_centimeters</th>\n",
       "      <th>gender_male</th>\n",
       "    </tr>\n",
       "  </thead>\n",
       "  <tbody>\n",
       "    <tr>\n",
       "      <th>0</th>\n",
       "      <td>171.0</td>\n",
       "      <td>1.0</td>\n",
       "    </tr>\n",
       "    <tr>\n",
       "      <th>1</th>\n",
       "      <td>170.0</td>\n",
       "      <td>1.0</td>\n",
       "    </tr>\n",
       "    <tr>\n",
       "      <th>2</th>\n",
       "      <td>174.0</td>\n",
       "      <td>1.0</td>\n",
       "    </tr>\n",
       "    <tr>\n",
       "      <th>3</th>\n",
       "      <td>189.0</td>\n",
       "      <td>1.0</td>\n",
       "    </tr>\n",
       "    <tr>\n",
       "      <th>4</th>\n",
       "      <td>174.0</td>\n",
       "      <td>1.0</td>\n",
       "    </tr>\n",
       "  </tbody>\n",
       "</table>\n",
       "</div>"
      ],
      "text/plain": [
       "   height_centimeters  gender_male\n",
       "0               171.0          1.0\n",
       "1               170.0          1.0\n",
       "2               174.0          1.0\n",
       "3               189.0          1.0\n",
       "4               174.0          1.0"
      ]
     },
     "execution_count": 3,
     "metadata": {},
     "output_type": "execute_result"
    }
   ],
   "source": [
    "import random\n",
    "import numpy as np\n",
    "import pandas as pd\n",
    "\n",
    "# create normal distributions for M/F along height - wiki\n",
    "# label 1/0 \n",
    "# loop over all possible cutoffs\n",
    "# bar chart\n",
    "\n",
    "# we initialize a random seed, in order to get a consistent random ratio of men/women in our fictional group\n",
    "random.seed(42)\n",
    "males_ratio = round(random.random() * 100)\n",
    "\n",
    "mean_male = 177.8\n",
    "stdev_male = 10.16\n",
    "mean_female = 165.1\n",
    "stdev_female = 8.89\n",
    "\n",
    "distribution_male = np.random.normal(mean_male, stdev_male, size=males_ratio)\n",
    "distribution_female = np.random.normal(mean_female, stdev_female, size=(100-males_ratio))\n",
    "distribution_male = np.floor(distribution_male)\n",
    "distribution_female = np.floor(distribution_female)\n",
    "\n",
    "m_array = np.dstack((distribution_male, np.ones_like(distribution_male)))\n",
    "f_array = np.dstack((distribution_female, np.zeros_like(distribution_female)))\n",
    "all_array = np.hstack((m_array, f_array))\n",
    "\n",
    "all_array[0]\n",
    "df = pd.DataFrame(all_array[0], columns=['height_centimeters', 'gender_male'])\n",
    "df.head()"
   ]
  },
  {
   "cell_type": "code",
   "execution_count": 20,
   "metadata": {},
   "outputs": [
    {
     "name": "stdout",
     "output_type": "stream",
     "text": [
      "cutoff >= 149.0 - gain: 0.014869191307417151\n",
      "cutoff >= 151.0 - gain: 0.04541779172226801\n",
      "cutoff >= 152.0 - gain: 0.07712121756102308\n",
      "cutoff >= 155.0 - gain: 0.11007998351201898\n",
      "cutoff >= 156.0 - gain: 0.0870425465259469\n",
      "cutoff >= 157.0 - gain: 0.10262182058894065\n",
      "cutoff >= 158.0 - gain: 0.1187364456556631\n",
      "cutoff >= 159.0 - gain: 0.1353757420668632\n",
      "cutoff >= 160.0 - gain: 0.14174542988848549\n",
      "cutoff >= 161.0 - gain: 0.13593507434825236\n",
      "cutoff >= 162.0 - gain: 0.14927507071071344\n",
      "cutoff >= 163.0 - gain: 0.14776700660178355\n",
      "cutoff >= 164.0 - gain: 0.15357923940464846\n",
      "cutoff >= 165.0 - gain: 0.14025276664045105\n",
      "cutoff >= 166.0 - gain: 0.17506184616895915\n",
      "cutoff >= 167.0 - gain: 0.179816874084473\n",
      "cutoff >= 168.0 - gain: 0.1919277719550797\n",
      "cutoff >= 169.0 - gain: 0.25600779515213046\n",
      "cutoff >= 170.0 - gain: 0.24186070224371903\n",
      "cutoff >= 171.0 - gain: 0.21697123337576008\n",
      "cutoff >= 172.0 - gain: 0.2496486615457849\n",
      "cutoff >= 173.0 - gain: 0.21475074172430364\n",
      "cutoff >= 174.0 - gain: 0.18305786109114064\n",
      "cutoff >= 175.0 - gain: 0.20330000271068294\n",
      "cutoff >= 176.0 - gain: 0.15475036793804775\n",
      "cutoff >= 177.0 - gain: 0.22268318925549224\n",
      "cutoff >= 178.0 - gain: 0.21278200707502348\n",
      "cutoff >= 179.0 - gain: 0.20307315431786432\n",
      "cutoff >= 181.0 - gain: 0.18420251751254457\n",
      "cutoff >= 182.0 - gain: 0.16601577662925027\n",
      "cutoff >= 183.0 - gain: 0.14846362606524555\n",
      "cutoff >= 184.0 - gain: 0.13150204577412206\n",
      "cutoff >= 186.0 - gain: 0.12323022204526657\n",
      "cutoff >= 188.0 - gain: 0.11509155498672097\n",
      "cutoff >= 189.0 - gain: 0.09143227279179378\n",
      "cutoff >= 190.0 - gain: 0.06882765424629045\n",
      "cutoff >= 191.0 - gain: 0.047185803518158154\n",
      "cutoff >= 192.0 - gain: 0.040171646371737424\n",
      "cutoff >= 193.0 - gain: 0.03325276098381058\n",
      "cutoff >= 194.0 - gain: 0.026426546447525845\n",
      "cutoff >= 196.0 - gain: 0.019690508766571413\n",
      "cutoff >= 197.0 - gain: 0.01304225498168321\n",
      "cutoff >= 201.0 - gain: 0.006479487700858488\n"
     ]
    }
   ],
   "source": [
    "from information_gain import information_gain\n",
    "\n",
    "\n",
    "original = df['gender_male'].values\n",
    "\n",
    "# we use arange, because it is computationally cheaper than SORT \n",
    "# + also does not include the last element (which would leave one split part empty)\n",
    "for i in np.arange(df['height_centimeters'].min(), df['height_centimeters'].max()):\n",
    "    part_1 = df[df['height_centimeters'] > i]['gender_male'].values\n",
    "    part_2 = df[df['height_centimeters'] <= i]['gender_male'].values\n",
    "    print(f'cutoff >= {i} - gain: {information_gain(original, part_1, part_2)}')\n",
    "    "
   ]
  },
  {
   "cell_type": "code",
   "execution_count": 24,
   "metadata": {},
   "outputs": [
    {
     "data": {
      "text/plain": [
       "array([149., 150., 151., 152., 153., 154., 155., 156., 157., 158., 159.,\n",
       "       160., 161., 162., 163., 164., 165., 166., 167., 168., 169., 170.,\n",
       "       171., 172., 173., 174., 175., 176., 177., 178., 179., 180., 181.,\n",
       "       182., 183., 184., 185., 186., 187., 188., 189., 190., 191., 192.,\n",
       "       193., 194., 195., 196., 197., 198., 199., 200., 201., 202., 203.])"
      ]
     },
     "execution_count": 24,
     "metadata": {},
     "output_type": "execute_result"
    }
   ],
   "source": [
    "np.arange(df['height_centimeters'].min(), df['height_centimeters'].max())"
   ]
  },
  {
   "cell_type": "code",
   "execution_count": null,
   "metadata": {},
   "outputs": [],
   "source": []
  },
  {
   "cell_type": "markdown",
   "metadata": {
    "pycharm": {
     "name": "#%% md\n"
    }
   },
   "source": [
    "## The Iterative Dichotomiser 3 (ID3) Algorithm\n",
    "\n",
    "\n"
   ]
  }
 ],
 "metadata": {
  "kernelspec": {
   "display_name": "Python 3",
   "language": "python",
   "name": "python3"
  },
  "language_info": {
   "codemirror_mode": {
    "name": "ipython",
    "version": 3
   },
   "file_extension": ".py",
   "mimetype": "text/x-python",
   "name": "python",
   "nbconvert_exporter": "python",
   "pygments_lexer": "ipython3",
   "version": "3.8.2"
  },
  "pycharm": {
   "stem_cell": {
    "cell_type": "raw",
    "metadata": {
     "collapsed": false
    },
    "source": []
   }
  }
 },
 "nbformat": 4,
 "nbformat_minor": 4
}
