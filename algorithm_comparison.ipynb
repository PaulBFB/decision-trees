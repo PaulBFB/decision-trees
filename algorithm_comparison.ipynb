{
 "cells": [
  {
   "cell_type": "markdown",
   "metadata": {
    "collapsed": true,
    "pycharm": {
     "name": "#%% md\n"
    }
   },
   "source": [
    "# Comparing ID3 and CS4.5 Learning Algorithms implemented in Python\n",
    "\n",
    "## Introduction\n",
    "\n",
    "### Motivation\n",
    "\n",
    "In order to deeply understand the concepts involved as well as Compare these Algorithms, \n",
    "I will implement them each as a Class in base Python, train them on a sample Dataset and compare their learning rates,\n",
    "both graphically and with some key metrics (training time, accuracy, further metrics to be determined later).\n",
    "\n",
    "### Scope \n",
    "I will not define basic Concepts such Machine Learning and Decision Trees here.\n",
    "Finally, I consider the history of these Algorithms out of scope here.\n",
    "\n",
    "Even though this is not a purely or even predominantly mathematical Project I _will_ introduce the Algorithms briefly,\n",
    "both in order to improve my own understanding and to provide context.\n",
    "\n",
    "### Key Concepts\n",
    "\n",
    "#### Entropy\n",
    "Having been very well defined elsewhere, I think about __Entropy__ in this specific context \n",
    "as the degree to which the varying outcomes of a probabilistic process are unbalanced.\n",
    "\n",
    "Simply put, a system has maximum entropy when all the outcomes are equally likely \n",
    "(think randomly picking a number from 1-100 where each numbers' probability of being chosen is 1%)\n",
    "and approaches zero entropy as an outcome becomes increasingly certain. \n",
    "\n",
    "> Formally: Given a random variable $X$, with possible outcomes $x_{i}$, each with probability $P_{X}(x_{i})$ \n",
    "> the entropy $H(X)$ is as follows\n",
    "> $$ H(x) = P_x(x_i) *  log_b P_x(x_i) $$\n",
    "> \n",
    ">source: [wikipedia](https://en.wikipedia.org/wiki/Entropy_(information_theory))\n",
    "> \n",
    ">the base $b$ is usually set at 2 for this specific case, representing a \"choice\" between 2 outcomes \n",
    "\n",
    "By this Token, the Entropy of picking a random Number between 1-100 can be calculated as\n"
   ]
  },
  {
   "cell_type": "code",
   "execution_count": 2,
   "metadata": {
    "pycharm": {
     "is_executing": false,
     "name": "#%%\n"
    }
   },
   "outputs": [
    {
     "data": {
      "text/plain": [
       "6.6438561897747395"
      ]
     },
     "execution_count": 2,
     "metadata": {},
     "output_type": "execute_result"
    }
   ],
   "source": [
    "from math import log\n",
    "\n",
    "\n",
    "probabilities = [.01] * 100\n",
    "entropy_example = -sum([i * log(.01, 2) for i in probabilities])\n",
    "entropy_example"
   ]
  },
  {
   "cell_type": "markdown",
   "metadata": {
    "pycharm": {
     "name": "#%% md\n"
    }
   },
   "source": [
    "graphically, let's look how entropy behaves in the most simple case from maximum to minimum:\n",
    "\n",
    "We start out with an equal coin toss with likelihood of 50 | 50 (maximum entropy) \n",
    "and end up with a perfectly unfair coin toss: 0 | 1"
   ]
  },
  {
   "cell_type": "code",
   "execution_count": 2,
   "metadata": {
    "pycharm": {
     "is_executing": false,
     "name": "#%%\n"
    }
   },
   "outputs": [
    {
     "data": {
      "text/plain": "<Figure size 1152x576 with 1 Axes>",
      "image/png": "[encoded data removed]"
     },
     "metadata": {
      "needs_background": "light"
     },
     "output_type": "display_data"
    }
   ],
   "source": [
    "import matplotlib.pyplot as plt\n",
    "from scipy.stats import entropy\n",
    "\n",
    "\n",
    "heads = .5\n",
    "tails = 1 - heads\n",
    "\n",
    "# we shift the likelihoods over from 0.5 - 0 and calculate entropy at each point\n",
    "# this time we use the entropy function from scipy\n",
    "# this could be vectorized with numpy, but at a list of this size...\n",
    "entropies = [entropy([(heads - i), tails], base=2) for i in [j * 0.005 for j in range(101)]]\n",
    "\n",
    "plt.figure(figsize=(16,8))\n",
    "plt.stem(range(101),entropies, use_line_collection=True)\n",
    "plt.legend('likelihood of a coin toss - from equal to unfair, in steps of 1%')\n",
    "plt.show()"
   ]
  },
  {
   "cell_type": "markdown",
   "metadata": {
    "pycharm": {
     "name": "#%% md\n"
    }
   },
   "source": [
    "as we can see, this looks like a classic logarithmic curve"
   ]
  },
  {
   "cell_type": "markdown",
   "metadata": {
    "pycharm": {
     "name": "#%% md\n"
    }
   },
   "source": [
    "#### Information Gain\n",
    "Complementary to Entropy of a probabilistic process, Information Gain indicates the decrease of entropy that occurs \n",
    "due to knowledge of a specific feature of the process, or makes the outcome of the process more deterministic.\n",
    "\n",
    "> Formally _the expected information gain is the change in information entropy Η \n",
    "> from a prior state to a state that takes some information as given:_\n",
    ">\n",
    "> $$ IG(T, a) = H(T) - H(T|a) $$\n",
    ">\n",
    "> where $H(T)$ describes the entropy of a system and $H(T|a)$ describes the entropy given and attribute $a$ \n",
    ">\n",
    "> source : [wikipedia](https://en.wikipedia.org/wiki/Information_gain_in_decision_trees)\n",
    "\n",
    "Informally, my heuristic for information gain is how much a new observation causes models and assumptions to be revised,\n",
    "the more surprising a new value, the more a model needs to be revised \n",
    "and therefore the more information is gained.\n",
    "\n",
    "More importantly concerning decision trees, information gain can be constructed in terms of \n",
    "the effect on entropy of splitting groups along a feature and look at the (posterior, conditional) entropy in the resulting groups \n",
    "compared to the prior entropy.\n",
    "If you're familiar with Bayes' Theorem, this should bring up some memories (fond or otherwise)\n",
    "\n",
    "> Formally that means we define the conditional entropy of a training set $ T $ given a feature $ a $ - $ H(T|a) $\n",
    "> as:\n",
    ">\n",
    "> $$ \\sum_{v \\in vals(a)} \\frac{|S_a(v)|}{|T|} \\cdot H(S_a(v))  $$\n",
    ">\n",
    "> here $S_a(v)$ denotes the subset of the training set $T$ for which the feature $a$ is applicable\n",
    "\n",
    "Ultimately, we calculate the entropy in all resulting subsets, multiply them by the relative sizes of the subsets \n",
    "and sum them up. \n",
    "So if we split Training group exactly in half on a feature, we calculate the entropy of subgroup a * .5 \n",
    "and the entropy of subgroup b * .5 and the sum would be our resulting entropy.\n",
    "\n",
    "To show a more tangible example:\n",
    "\n",
    "Assuming we have a group of 100 people and know only their height and their gender.\n",
    "Now we want to find the best \"cutoff\" height to split the group into male/female. We to this by:\n",
    "* picking a cutoff height, let's say 170cm and splitting the group in two\n",
    "* calculate conditional entropy in the group above / below given a height of more or less than 170 cm, respectively\n",
    "* multiply the conditional entropies by the group sizes (e.g. 35/100 and 65/100) and sum them up\n",
    "* calculate the difference between the original entropy of the whole set and the sums (the information gain)\n",
    "* record the information gain and shift the cutoff to the next possible value\n",
    "\n",
    "In Python:"
   ]
  },
  {
   "cell_type": "code",
   "execution_count": 3,
   "metadata": {
    "pycharm": {
     "is_executing": false,
     "name": "#%%\n"
    }
   },
   "outputs": [
    {
     "data": {
      "text/plain": "[1.0,\n 0.9999817845368459,\n 0.999926399368686,\n 0.9998327094582857,\n 0.9996995428565172,\n 0.9995256892936492,\n 0.999309898706868,\n 0.9990508797006226,\n 0.9987472979361685,\n 0.9983977744464616,\n 0.9980008838722995,\n 0.9975551526153486,\n 0.9970590569034107,\n 0.9965110207629746,\n 0.9959094138937685,\n 0.9952525494396791,\n 0.9945386816500109,\n 0.9937660034246586,\n 0.9929326437363043,\n 0.9920366649222822,\n 0.9910760598382221,\n 0.9900487488650184,\n 0.9889525767600615,\n 0.9877853093429981,\n 0.9865446300055644,\n 0.9852281360342515,\n 0.983833334733701,\n 0.9823576393378013,\n 0.9807983646944296,\n 0.9791527227086764,\n 0.9774178175281716,\n 0.9755906404527989,\n 0.9736680645496202,\n 0.9716468389522365,\n 0.9695235828220428,\n 0.9672947789468945,\n 0.9649567669505686,\n 0.9625057360840397,\n 0.9599377175669783,\n 0.9572485764449988,\n 0.954434002924965,\n 0.9514895031471158,\n 0.9484103893488014,\n 0.9451917693702084,\n 0.9418285354475157,\n 0.9383153522334069,\n 0.9346466439786693,\n 0.9308165808016582,\n 0.926819063964577,\n 0.9226477100666766,\n 0.9182958340544894,\n 0.913756430937882,\n 0.9090221560878149,\n 0.9040853039770349,\n 0.8989377852081333,\n 0.8935711016541907,\n 0.887976319515135,\n 0.8821440400674616,\n 0.8760643678555242,\n 0.8697268760384114,\n 0.8631205685666311,\n 0.8562338388163121,\n 0.8490544242540479,\n 0.8415693566412304,\n 0.833764907210665,\n 0.8256265261578954,\n 0.8171387756817724,\n 0.8082852556793744,\n 0.799048521044268,\n 0.7894099893277894,\n 0.7793498372920848,\n 0.768846884600215,\n 0.7578784625383954,\n 0.7464202652297556,\n 0.7344461802527668,\n 0.7219280948873623,\n 0.7088356733321959,\n 0.6951360991052256,\n 0.6807937753703207,\n 0.6657699740033016,\n 0.6500224216483541,\n 0.6335048075692831,\n 0.6161661934005354,\n 0.597950298397693,\n 0.5787946246321198,\n 0.5586293734521991,\n 0.5373760853377335,\n 0.5149459065452171,\n 0.4912373418243332,\n 0.46613328272413523,\n 0.4394969869215133,\n 0.4111664900021254,\n 0.38094658570539014,\n 0.3485968608695981,\n 0.31381296416886517,\n 0.27619542764793864,\n 0.23519338181924174,\n 0.1899907555362676,\n 0.13923299905509898,\n 0.0801360473312753,\n 0.0]"
     },
     "metadata": {},
     "output_type": "execute_result",
     "execution_count": 3
    }
   ],
   "source": []
  },
  {
   "cell_type": "markdown",
   "metadata": {
    "pycharm": {
     "name": "#%% md\n"
    }
   },
   "source": [
    "## The Iterative Dichotomiser 3 (ID3) Algorithm\n",
    "\n",
    "\n"
   ]
  }
 ],
 "metadata": {
  "kernelspec": {
   "display_name": "Python 3",
   "language": "python",
   "name": "python3"
  },
  "language_info": {
   "codemirror_mode": {
    "name": "ipython",
    "version": 3
   },
   "file_extension": ".py",
   "mimetype": "text/x-python",
   "name": "python",
   "nbconvert_exporter": "python",
   "pygments_lexer": "ipython3",
   "version": "3.8.2"
  },
  "pycharm": {
   "stem_cell": {
    "cell_type": "raw",
    "source": [],
    "metadata": {
     "collapsed": false
    }
   }
  }
 },
 "nbformat": 4,
 "nbformat_minor": 1
}